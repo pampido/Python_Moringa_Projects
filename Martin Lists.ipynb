{
 "cells": [
  {
   "cell_type": "markdown",
   "metadata": {
    "id": "IobNbd_TFTmg"
   },
   "source": [
    "## LISTS\n",
    "*Collection of items in a particular order.\n",
    "*can include strings,integers and any other data types including a list\n",
    "* You can add anything in a list and the items in your list don't have to be related in a particular way.\n",
    "*Use aquare brackets ```[]`` to indicate a list and indivial items in the list are separated by commas.\n",
    "\n",
    "**syntax**: ```[item_1, item_2, Item_3]```"
   ]
  },
  {
   "cell_type": "code",
   "execution_count": 1,
   "metadata": {
    "colab": {
     "base_uri": "https://localhost:8080/"
    },
    "id": "W60djgWkG3L_",
    "outputId": "7d9a22ae-2db7-431b-ca2a-7c2e798f5bc7"
   },
   "outputs": [
    {
     "name": "stdout",
     "output_type": "stream",
     "text": [
      "['guavas', 'peaches', 'strawberries', 300, 'kiwi']\n"
     ]
    }
   ],
   "source": [
    "#example\n",
    "fruits = [\"guavas\",\"peaches\",\"strawberries\",300, \"kiwi\"]\n",
    "print(fruits)"
   ]
  },
  {
   "cell_type": "code",
   "execution_count": 2,
   "metadata": {
    "colab": {
     "base_uri": "https://localhost:8080/"
    },
    "id": "Zs2Gyh4IEcUt",
    "outputId": "d043d365-42bd-4cf8-a737-04efe8bd08ab"
   },
   "outputs": [
    {
     "data": {
      "text/plain": [
       "list"
      ]
     },
     "execution_count": 2,
     "metadata": {},
     "output_type": "execute_result"
    }
   ],
   "source": [
    "type(fruits)"
   ]
  },
  {
   "cell_type": "code",
   "execution_count": null,
   "metadata": {
    "id": "BAR5acBbHqTX"
   },
   "outputs": [],
   "source": [
    "#example 2\n",
    "phone_no = [142536,67845,788565699]"
   ]
  },
  {
   "cell_type": "markdown",
   "metadata": {
    "id": "Hc3EghEFIKfP"
   },
   "source": [
    "## accesing items in a list\n",
    "*Lists are ordered collections, i.e you can acces individual items in a list by telling python the posisition of an item in a list is refered to as *index*\n",
    "*Syntax to acces items in a list\n",
    "*index position start at 0\n",
    "\n",
    "list_name[index]"
   ]
  },
  {
   "cell_type": "code",
   "execution_count": 4,
   "metadata": {
    "colab": {
     "base_uri": "https://localhost:8080/"
    },
    "id": "e4hdNzNLH9v_",
    "outputId": "58cf0746-6bf4-4f07-ba93-a883fa3c073d"
   },
   "outputs": [
    {
     "name": "stdout",
     "output_type": "stream",
     "text": [
      "peaches\n",
      "STRAWBERRIES\n",
      "kiwi\n"
     ]
    }
   ],
   "source": [
    "#Accessing items in a list\n",
    "#access banana\n",
    "print(fruits[1])\n",
    "\n",
    "#changing case\n",
    "print(fruits[2].upper())\n",
    "#using negative indexing starts with the last atem\n",
    "#starts -1\n",
    "print(fruits[-1])"
   ]
  },
  {
   "cell_type": "code",
   "execution_count": 5,
   "metadata": {
    "colab": {
     "base_uri": "https://localhost:8080/"
    },
    "id": "wqxPCOx0K3SH",
    "outputId": "25378b77-0ca3-41b3-9c2a-ed853811731c"
   },
   "outputs": [
    {
     "name": "stdout",
     "output_type": "stream",
     "text": [
      "Martin likes kiwi, especially the huge ones.\n"
     ]
    }
   ],
   "source": [
    "#using individual items in a list\n",
    "message = f\"Martin likes {fruits[-1]}, especially the huge ones.\"\n",
    "print(message)"
   ]
  },
  {
   "cell_type": "markdown",
   "metadata": {
    "id": "0dLRd17GMhHE"
   },
   "source": [
    "### MODIFYING , ADDING AND REMOVING ITEMS IN A LIST\n",
    "*Lists are dynamic i.e Most of the list you will add items and creat,remove and delete the entire list"
   ]
  },
  {
   "cell_type": "code",
   "execution_count": 7,
   "metadata": {
    "colab": {
     "base_uri": "https://localhost:8080/"
    },
    "id": "B9R98lavNNvW",
    "outputId": "9f3958fe-3fff-4636-d1cc-70cc334b9c94"
   },
   "outputs": [
    {
     "name": "stdout",
     "output_type": "stream",
     "text": [
      "['Supreme', 'high coat']\n"
     ]
    }
   ],
   "source": [
    "#modifying items in a list\n",
    "courts = ['Supreme', 'high coat']\n",
    "print(courts)"
   ]
  },
  {
   "cell_type": "code",
   "execution_count": 8,
   "metadata": {
    "colab": {
     "base_uri": "https://localhost:8080/"
    },
    "id": "6BKivvz5NpV_",
    "outputId": "d2aed3dc-ca0c-4b50-8a4f-a9aaf53e0321"
   },
   "outputs": [
    {
     "name": "stdout",
     "output_type": "stream",
     "text": [
      "['Supreme', 'High Court']\n"
     ]
    }
   ],
   "source": [
    "# access the court first the assign the courrected versios i.e court[1]\n",
    "courts[1] = \"High Court\"\n",
    "print(courts)"
   ]
  },
  {
   "cell_type": "markdown",
   "metadata": {
    "id": "vDwGd_oyOZ3u"
   },
   "source": [
    "#### Adding items to a list-introducing new items to the list"
   ]
  },
  {
   "cell_type": "code",
   "execution_count": 9,
   "metadata": {
    "colab": {
     "base_uri": "https://localhost:8080/"
    },
    "id": "E3ygoSIDObcw",
    "outputId": "4044772b-1098-45e8-bfe2-b51dc0bb1a63"
   },
   "outputs": [
    {
     "name": "stdout",
     "output_type": "stream",
     "text": [
      "['Supreme', 'High Court', 'magistrtate court']\n",
      "['Supreme', 'court of appeal', 'High Court', 'magistrtate court']\n"
     ]
    }
   ],
   "source": [
    "#Adding items to a list-introducing new items to the list\n",
    "# 1. adding an elements at the end of a list . you append(item)\n",
    "courts.append(\"magistrtate court\")\n",
    "print(courts)\n",
    "\n",
    "# 2. Insert an item at a specific position we want\n",
    "    # syntax .insert(index,item)\n",
    "\n",
    "#Example insert court of appeal in the list of courts Nb: if you run twice it will add another one put condions\n",
    "courts.insert(1,\"court of appeal\")\n",
    "print(courts)\n"
   ]
  },
  {
   "cell_type": "code",
   "execution_count": 10,
   "metadata": {
    "colab": {
     "base_uri": "https://localhost:8080/",
     "height": 253
    },
    "id": "3x4NzREZPSou",
    "outputId": "cd5eb8f8-9f42-4008-d20b-718ccaa13233"
   },
   "outputs": [
    {
     "name": "stdout",
     "output_type": "stream",
     "text": [
      "['guavas', 'peaches', 'strawberries', 300]\n",
      "['peaches', 'strawberries', 300]\n"
     ]
    }
   ],
   "source": [
    "#removing items in a list\n",
    "#1. using .pop() removes an item at the end of a list\n",
    "fruits.pop() # the item \"1\" in the list is removed note if you run twice the next fruit is removed\n",
    "print(fruits)\n",
    "\n",
    "#2 use .pop(index)\n",
    "fruits.pop(0)\n",
    "print(fruits)"
   ]
  },
  {
   "cell_type": "code",
   "execution_count": 11,
   "metadata": {
    "colab": {
     "base_uri": "https://localhost:8080/"
    },
    "id": "fx0ag4snT3tP",
    "outputId": "0e42b90d-af62-4ad2-b4ed-4a0a250692d3"
   },
   "outputs": [
    {
     "name": "stdout",
     "output_type": "stream",
     "text": [
      "['Supreme', 'court of appeal', 'magistrtate court']\n"
     ]
    }
   ],
   "source": [
    "#3. Use .remove(item_value) to remove item by value #use when you don't know its index of item\n",
    "courts.remove(\"High Court\")\n",
    "print(courts)"
   ]
  },
  {
   "cell_type": "code",
   "execution_count": 12,
   "metadata": {
    "colab": {
     "base_uri": "https://localhost:8080/"
    },
    "id": "f_HQTvAiTvsP",
    "outputId": "d4fe5eb0-3ce4-46c1-b630-918f00263c13"
   },
   "outputs": [
    {
     "name": "stdout",
     "output_type": "stream",
     "text": [
      "['Supreme', 'magistrtate court']\n"
     ]
    }
   ],
   "source": [
    "#Using delete(del) statement to remove item in a list\n",
    "#syntax del list_name[index]\n",
    "del courts[1]\n",
    "print(courts)"
   ]
  },
  {
   "cell_type": "markdown",
   "metadata": {
    "id": "P0TI4P8ie6qH"
   },
   "source": [
    "### DICTIONARY\n",
    ". we access values using \"Key\""
   ]
  },
  {
   "cell_type": "code",
   "execution_count": 13,
   "metadata": {
    "colab": {
     "base_uri": "https://localhost:8080/"
    },
    "id": "5CKAwlG0fLsD",
    "outputId": "4fb9c499-0ee7-423d-a75f-abef68be26b2"
   },
   "outputs": [
    {
     "name": "stdout",
     "output_type": "stream",
     "text": [
      "['PawPaw', 'Oranges']\n",
      "ORANGES\n"
     ]
    }
   ],
   "source": [
    "Fruit_list = [\"mango\",[\"PawPaw\",\"Oranges\"],\"Guava\"] # this list has three items i.e mango, next set(paw and oranges) and then Oranges\n",
    "print(Fruit_list[1])#  accessing the  set number two (paw paw and oranges)\n",
    "print(Fruit_list[1][1].upper()) # capitalizing the Orange"
   ]
  },
  {
   "cell_type": "code",
   "execution_count": 14,
   "metadata": {
    "colab": {
     "base_uri": "https://localhost:8080/"
    },
    "id": "WVdEWhZojWy8",
    "outputId": "02a513d0-370f-4759-9cab-9909fd4ba1a7"
   },
   "outputs": [
    {
     "name": "stdout",
     "output_type": "stream",
     "text": [
      "Present\n",
      "['Antonny', 'Kocheli', 'Kirui', 'Chemu', 'Nyambane', 'Margaret']\n"
     ]
    }
   ],
   "source": [
    "noise_makers = [\"Antonny\",\"Kocheli\",\"Kirui\",\"Chemu\",\"Nyambane\"]\n",
    "#checking item in a list\n",
    "if \"Antonny\" in noise_makers:\n",
    "    print(\"Present\")\n",
    "\n",
    "\n",
    "    #Adding items not in list\n",
    "if \"Margaret\" in noise_makers: # operation of bolean\n",
    "    print(present)\n",
    "else:\n",
    "    noise_makers.append(\"Margaret\")\n",
    "    print(noise_makers)\n"
   ]
  },
  {
   "cell_type": "code",
   "execution_count": 15,
   "metadata": {
    "colab": {
     "base_uri": "https://localhost:8080/"
    },
    "id": "lObr_zbQnPm4",
    "outputId": "21d9b45d-1057-45f0-9403-e703034ccf3a"
   },
   "outputs": [
    {
     "name": "stdout",
     "output_type": "stream",
     "text": [
      "List corrupted\n",
      "['Everlyne', 'Antonny', 'Kocheli', 'Kirui', 'Chemu', 'Nyambane', 'Margaret']\n"
     ]
    }
   ],
   "source": [
    "# checking item not in the list\n",
    "if \"Everlyne\" not in noise_makers:\n",
    "    print(\"List corrupted\")\n",
    "# Adding the name in the list\n",
    "noise_makers.insert(0,\"Everlyne\") #inserting in the first position\n",
    "print(noise_makers)"
   ]
  },
  {
   "cell_type": "markdown",
   "metadata": {
    "id": "SQ8ERJp2qitp"
   },
   "source": [
    "## Determining the length of your list"
   ]
  },
  {
   "cell_type": "code",
   "execution_count": 19,
   "metadata": {
    "colab": {
     "base_uri": "https://localhost:8080/"
    },
    "id": "tDpwSuuyqOpX",
    "outputId": "82eb00e8-cd77-4131-cecb-b3902f29a57b"
   },
   "outputs": [
    {
     "data": {
      "text/plain": [
       "7"
      ]
     },
     "execution_count": 19,
     "metadata": {},
     "output_type": "execute_result"
    }
   ],
   "source": [
    "#functions\n",
    "#size of a list\n",
    "len(noise_makers)\n"
   ]
  },
  {
   "cell_type": "code",
   "execution_count": 18,
   "metadata": {
    "id": "kV1kuNiWrb9C"
   },
   "outputs": [],
   "source": [
    "# CREATING LIST OF NUMBERS\n",
    "number = [1,2,3,4]"
   ]
  },
  {
   "cell_type": "code",
   "execution_count": 20,
   "metadata": {
    "colab": {
     "base_uri": "https://localhost:8080/"
    },
    "id": "tYIBdf3HL2rS",
    "outputId": "235076e0-6c0d-44b5-a89a-347e2e3c13f0"
   },
   "outputs": [
    {
     "name": "stdout",
     "output_type": "stream",
     "text": [
      "Italy\n"
     ]
    }
   ],
   "source": [
    "countries = ['Croatia',\n",
    "\n",
    "'USA',\n",
    "\n",
    "'Argentina',\n",
    "\n",
    "'Mexico',\n",
    "\n",
    "'USA',\n",
    "\n",
    "'Morocco',\n",
    "\n",
    "'New Mexico',\n",
    "\n",
    "'Finland',\n",
    "\n",
    "'Argentina',\n",
    "\n",
    "'Italy',\n",
    "\n",
    "'Canada',\n",
    "\n",
    "'South Korea']\n",
    "\n",
    "italy = None # 'Italy'\n",
    "\n",
    "italy = (countries[9])\n",
    "print(italy)\n"
   ]
  },
  {
   "cell_type": "code",
   "execution_count": 21,
   "metadata": {
    "colab": {
     "base_uri": "https://localhost:8080/"
    },
    "id": "9cHYPAfVRGdC",
    "outputId": "f9ed746c-7229-4e9b-81cf-7da237794aac"
   },
   "outputs": [
    {
     "name": "stdout",
     "output_type": "stream",
     "text": [
      "Mexico\n"
     ]
    }
   ],
   "source": [
    "mexico = None\n",
    "\n",
    "mexico = (countries[3])\n",
    "print(mexico)"
   ]
  },
  {
   "cell_type": "code",
   "execution_count": 22,
   "metadata": {
    "colab": {
     "base_uri": "https://localhost:8080/"
    },
    "id": "n6ua0VwZRxV8",
    "outputId": "44d1a369-bd3b-4e7f-f81d-480c4f8cb913"
   },
   "outputs": [
    {
     "name": "stdout",
     "output_type": "stream",
     "text": [
      "USA, Argentina,Mexico,USA\n"
     ]
    }
   ],
   "source": [
    "kindof_neighbors = None\n",
    "\n",
    "kindof_neighbors = f\"{countries[1]}, {countries[2]},{countries[3]},{countries[4]}\"\n",
    "print(kindof_neighbors)"
   ]
  },
  {
   "cell_type": "code",
   "execution_count": 24,
   "metadata": {
    "colab": {
     "base_uri": "https://localhost:8080/"
    },
    "id": "0IGtPklpWZjw",
    "outputId": "1f8538a2-f22c-4ead-e7a8-c786cc188ff6"
   },
   "outputs": [
    {
     "name": "stdout",
     "output_type": "stream",
     "text": [
      "['Croatia', 'USA', 'Argentina', 'Mexico', 'USA', 'Morocco', 'New Mexico', 'Finland', 'Argentina', 'Italy', 'Canada', 'South Korea', 'Malta', 'Malta']\n",
      "['Croatia', 'USA', 'Argentina', 'Mexico', 'USA', 'Morocco', 'New Mexico', 'Finland', 'Argentina', 'Italy', 'South Korea', 'Malta', 'Malta']\n"
     ]
    }
   ],
   "source": [
    "#Adding a country into the list\n",
    "countries.append('Malta')\n",
    "print(countries)\n",
    "del countries[10]\n",
    "print(countries)"
   ]
  },
  {
   "cell_type": "code",
   "execution_count": 25,
   "metadata": {
    "id": "0DMbXaeAXzbR"
   },
   "outputs": [],
   "source": [
    "#adding Thailand into the list\n",
    "countries.append('Thailand')"
   ]
  },
  {
   "cell_type": "code",
   "execution_count": 26,
   "metadata": {
    "colab": {
     "base_uri": "https://localhost:8080/"
    },
    "id": "2NLV581_YMNc",
    "outputId": "dba0ba98-c974-46d2-82ee-bb5e0a3e8742"
   },
   "outputs": [
    {
     "name": "stdout",
     "output_type": "stream",
     "text": [
      "['Croatia', 'USA', 'Argentina', 'Mexico', 'USA', 'Morocco', 'New Mexico', 'Finland', 'Argentina', 'Italy', 'South Korea', 'Malta', 'Malta', 'Thailand']\n"
     ]
    }
   ],
   "source": [
    "print(countries)"
   ]
  },
  {
   "cell_type": "code",
   "execution_count": 27,
   "metadata": {
    "colab": {
     "base_uri": "https://localhost:8080/"
    },
    "id": "ck8hRBKKaBZF",
    "outputId": "ccd92726-3632-4454-df4a-9be1b021c6cc"
   },
   "outputs": [
    {
     "name": "stdout",
     "output_type": "stream",
     "text": [
      "['Croatia', 'USA', 'Argentina', 'Mexico', 'USA', 'Morocco', 'USA', 'Finland', 'Argentina', 'Italy', 'South Korea', 'Malta', 'Malta', 'Thailand']\n"
     ]
    }
   ],
   "source": [
    "#modify a list # change New Mexico to USA\n",
    "countries[6] = 'USA'\n",
    "print(countries)"
   ]
  },
  {
   "cell_type": "code",
   "execution_count": 28,
   "metadata": {
    "colab": {
     "base_uri": "https://localhost:8080/"
    },
    "id": "ctmReIIDa3N6",
    "outputId": "b19bffed-e90e-4098-ce9f-8362281ed463"
   },
   "outputs": [
    {
     "name": "stdout",
     "output_type": "stream",
     "text": [
      "['Croatia', 'USA', 'Argentina', 'Mexico', 'USA', 'Morocco', 'USA', 'Finland', 'Argentina', 'Italy', 'South Korea', 'Malta', 'Malta']\n"
     ]
    }
   ],
   "source": [
    "#Removing Thailand from the list\n",
    "countries.pop()\n",
    "print(countries)"
   ]
  },
  {
   "cell_type": "markdown",
   "metadata": {
    "id": "qp4T9bs4d2_R"
   },
   "source": [
    "### REMOVING DUBLICATES FROM A LIST WE USE **SET(put your list here)** AND **LIST**"
   ]
  },
  {
   "cell_type": "code",
   "execution_count": 29,
   "metadata": {
    "colab": {
     "base_uri": "https://localhost:8080/"
    },
    "id": "IRZJ_7fmdMQe",
    "outputId": "a1c0fa20-a433-46fd-a32f-9b82342c2fcd"
   },
   "outputs": [
    {
     "name": "stdout",
     "output_type": "stream",
     "text": [
      "['Malta', 'Mexico', 'USA', 'Finland', 'Croatia', 'Italy', 'South Korea', 'Argentina', 'Morocco']\n"
     ]
    }
   ],
   "source": [
    "# Removing duplicated from the countries\n",
    "unique_countries = None # our new variable\n",
    "unique_countries = list(set(countries))\n",
    "print(unique_countries)"
   ]
  },
  {
   "cell_type": "code",
   "execution_count": 30,
   "metadata": {
    "colab": {
     "base_uri": "https://localhost:8080/"
    },
    "id": "W8iEuU-OiYHg",
    "outputId": "500a2e15-9ec4-4da5-8f0a-ca6d1f0f83fa"
   },
   "outputs": [
    {
     "name": "stdout",
     "output_type": "stream",
     "text": [
      "13\n"
     ]
    }
   ],
   "source": [
    "sizecountries = len(countries)\n",
    "print(sizecountries)"
   ]
  },
  {
   "cell_type": "code",
   "execution_count": 32,
   "metadata": {
    "colab": {
     "base_uri": "https://localhost:8080/"
    },
    "id": "xLCmHttijdH4",
    "outputId": "c385d715-8bb4-403e-9557-5615c0ae2e94"
   },
   "outputs": [
    {
     "name": "stdout",
     "output_type": "stream",
     "text": [
      "9\n"
     ]
    }
   ],
   "source": [
    "sizeuniquecountries = len(unique_countries)\n",
    "print(sizeuniquecountries)"
   ]
  },
  {
   "cell_type": "code",
   "execution_count": 33,
   "metadata": {
    "colab": {
     "base_uri": "https://localhost:8080/"
    },
    "id": "d2R547zrq_AG",
    "outputId": "06dbd0d7-8359-4b8a-bf4d-f32572d1117d"
   },
   "outputs": [
    {
     "name": "stdout",
     "output_type": "stream",
     "text": [
      "4\n"
     ]
    }
   ],
   "source": [
    "number_of_repeats =sizecountries-sizeuniquecountries\n",
    "print(number_of_repeats)"
   ]
  }
 ],
 "metadata": {
  "colab": {
   "provenance": []
  },
  "kernelspec": {
   "display_name": "Python 3 (ipykernel)",
   "language": "python",
   "name": "python3"
  },
  "language_info": {
   "codemirror_mode": {
    "name": "ipython",
    "version": 3
   },
   "file_extension": ".py",
   "mimetype": "text/x-python",
   "name": "python",
   "nbconvert_exporter": "python",
   "pygments_lexer": "ipython3",
   "version": "3.11.3"
  }
 },
 "nbformat": 4,
 "nbformat_minor": 1
}
